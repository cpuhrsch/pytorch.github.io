{
 "cells": [
  {
   "cell_type": "markdown",
   "id": "166b12e4",
   "metadata": {},
   "source": [
    "### This notebook is optionally accelerated with a GPU runtime.\n",
    "### If you would like to use this acceleration, please select the menu option \"Runtime\" -> \"Change runtime type\", select \"Hardware Accelerator\" -> \"GPU\" and click \"SAVE\"\n",
    "\n",
    "----------------------------------------------------------------------\n",
    "\n",
    "# MiDaS\n",
    "\n",
    "*Author: Intel ISL*\n",
    "\n",
    "**MiDaS models for computing relative depth from a single image.**\n",
    "\n",
    "<img src=\"https://pytorch.org/assets/images/midas_samples.png\" alt=\"alt\" width=\"50%\"/>\n",
    "\n",
    "\n",
    "### Model Description\n",
    "\n",
    "[MiDaS](https://arxiv.org/abs/1907.01341) computes relative inverse depth from a single image. The repository provides multiple models that cover different use cases ranging from a small, high-speed model to a very large model that provide the highest accuracy. The models have been trained on 10 distinct datasets using\n",
    "multi-objective optimization to ensure high quality on a wide range of inputs.\n",
    "\n",
    "### Dependencies\n",
    "\n",
    "MiDaS depends on [timm](https://github.com/rwightman/pytorch-image-models). Install with"
   ]
  },
  {
   "cell_type": "code",
   "execution_count": null,
   "id": "49a6c12d",
   "metadata": {
    "attributes": {
     "classes": [
      "shell"
     ],
     "id": ""
    }
   },
   "outputs": [],
   "source": [
    "pip install timm"
   ]
  },
  {
   "cell_type": "markdown",
   "id": "108f314d",
   "metadata": {},
   "source": [
    "### Example Usage\n",
    "\n",
    "Download an image from the PyTorch homepage"
   ]
  },
  {
   "cell_type": "code",
   "execution_count": null,
   "id": "234840e7",
   "metadata": {},
   "outputs": [],
   "source": [
    "import cv2\n",
    "import torch\n",
    "import urllib.request\n",
    "\n",
    "import matplotlib.pyplot as plt\n",
    "\n",
    "url, filename = (\"https://github.com/pytorch/hub/raw/master/images/dog.jpg\", \"dog.jpg\")\n",
    "urllib.request.urlretrieve(url, filename)"
   ]
  },
  {
   "cell_type": "markdown",
   "id": "71b74398",
   "metadata": {},
   "source": [
    "Load a model (see [https://github.com/intel-isl/MiDaS/#Accuracy](https://github.com/intel-isl/MiDaS/#Accuracy) for an overview)"
   ]
  },
  {
   "cell_type": "code",
   "execution_count": null,
   "id": "9ca23941",
   "metadata": {},
   "outputs": [],
   "source": [
    "model_type = \"DPT_Large\"     # MiDaS v3 - Large     (highest accuracy, slowest inference speed)\n",
    "#model_type = \"DPT_Hybrid\"   # MiDaS v3 - Hybrid    (medium accuracy, medium inference speed)\n",
    "#model_type = \"MiDaS_small\"  # MiDaS v2.1 - Small   (lowest accuracy, highest inference speed)\n",
    "\n",
    "midas = torch.hub.load(\"intel-isl/MiDaS\", model_type)"
   ]
  },
  {
   "cell_type": "markdown",
   "id": "2aca80e7",
   "metadata": {},
   "source": [
    "Move model to GPU if available"
   ]
  },
  {
   "cell_type": "code",
   "execution_count": null,
   "id": "36702523",
   "metadata": {},
   "outputs": [],
   "source": [
    "device = torch.device(\"cuda\") if torch.cuda.is_available() else torch.device(\"cpu\")\n",
    "midas.to(device)\n",
    "midas.eval()"
   ]
  },
  {
   "cell_type": "markdown",
   "id": "37c32838",
   "metadata": {},
   "source": [
    "Load transforms to resize and normalize the image for large or small model"
   ]
  },
  {
   "cell_type": "code",
   "execution_count": null,
   "id": "0a867505",
   "metadata": {},
   "outputs": [],
   "source": [
    "midas_transforms = torch.hub.load(\"intel-isl/MiDaS\", \"transforms\")\n",
    "\n",
    "if model_type == \"DPT_Large\" or model_type == \"DPT_Hybrid\":\n",
    "    transform = midas_transforms.dpt_transform\n",
    "else:\n",
    "    transform = midas_transforms.small_transform"
   ]
  },
  {
   "cell_type": "markdown",
   "id": "492ec47c",
   "metadata": {},
   "source": [
    "Load image and apply transforms"
   ]
  },
  {
   "cell_type": "code",
   "execution_count": null,
   "id": "b5945dc6",
   "metadata": {},
   "outputs": [],
   "source": [
    "img = cv2.imread(filename)\n",
    "img = cv2.cvtColor(img, cv2.COLOR_BGR2RGB)\n",
    "\n",
    "input_batch = transform(img).to(device)"
   ]
  },
  {
   "cell_type": "markdown",
   "id": "66cd4c7b",
   "metadata": {},
   "source": [
    "Predict and resize to original resolution"
   ]
  },
  {
   "cell_type": "code",
   "execution_count": null,
   "id": "be39330e",
   "metadata": {},
   "outputs": [],
   "source": [
    "with torch.no_grad():\n",
    "    prediction = midas(input_batch)\n",
    "\n",
    "    prediction = torch.nn.functional.interpolate(\n",
    "        prediction.unsqueeze(1),\n",
    "        size=img.shape[:2],\n",
    "        mode=\"bicubic\",\n",
    "        align_corners=False,\n",
    "    ).squeeze()\n",
    "\n",
    "output = prediction.cpu().numpy()"
   ]
  },
  {
   "cell_type": "markdown",
   "id": "ebe35bbd",
   "metadata": {},
   "source": [
    "Show result"
   ]
  },
  {
   "cell_type": "code",
   "execution_count": null,
   "id": "b997b339",
   "metadata": {},
   "outputs": [],
   "source": [
    "plt.imshow(output)\n",
    "# plt.show()"
   ]
  },
  {
   "cell_type": "markdown",
   "id": "03a4a1d7",
   "metadata": {},
   "source": [
    "### References\n",
    "[Towards Robust Monocular Depth Estimation: Mixing Datasets for Zero-shot Cross-dataset Transfer](https://arxiv.org/abs/1907.01341)\n",
    "\n",
    "[Vision Transformers for Dense Prediction](https://arxiv.org/abs/2103.13413)\n",
    "\n",
    "Please cite our papers if you use our models:"
   ]
  },
  {
   "cell_type": "code",
   "execution_count": null,
   "id": "64dbea84",
   "metadata": {
    "attributes": {
     "classes": [
      "bibtex"
     ],
     "id": ""
    }
   },
   "outputs": [],
   "source": [
    "@article{Ranftl2020,\n",
    "\tauthor    = {Ren\\'{e} Ranftl and Katrin Lasinger and David Hafner and Konrad Schindler and Vladlen Koltun},\n",
    "\ttitle     = {Towards Robust Monocular Depth Estimation: Mixing Datasets for Zero-shot Cross-dataset Transfer},\n",
    "\tjournal   = {IEEE Transactions on Pattern Analysis and Machine Intelligence (TPAMI)},\n",
    "\tyear      = {2020},\n",
    "}"
   ]
  },
  {
   "cell_type": "code",
   "execution_count": null,
   "id": "95f000fe",
   "metadata": {
    "attributes": {
     "classes": [
      "bibtex"
     ],
     "id": ""
    }
   },
   "outputs": [],
   "source": [
    "@article{Ranftl2021,\n",
    "\tauthor    = {Ren\\'{e} Ranftl and Alexey Bochkovskiy and Vladlen Koltun},\n",
    "\ttitle     = {Vision Transformers for Dense Prediction},\n",
    "\tjournal   = {ArXiv preprint},\n",
    "\tyear      = {2021},\n",
    "}"
   ]
  }
 ],
 "metadata": {},
 "nbformat": 4,
 "nbformat_minor": 5
}
