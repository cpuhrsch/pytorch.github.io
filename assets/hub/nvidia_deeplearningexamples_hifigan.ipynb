{
 "cells": [
  {
   "cell_type": "markdown",
   "id": "1d66e348",
   "metadata": {},
   "source": [
    "### This notebook requires a GPU runtime to run.\n",
    "### Please select the menu option \"Runtime\" -> \"Change runtime type\", select \"Hardware Accelerator\" -> \"GPU\" and click \"SAVE\"\n",
    "\n",
    "----------------------------------------------------------------------\n",
    "\n",
    "# HiFi GAN\n",
    "\n",
    "*Author: NVIDIA*\n",
    "\n",
    "**The HiFi GAN model for generating waveforms from mel spectrograms**\n",
    "\n",
    "<img src=\"https://pytorch.org/assets/images/hifigan_model.png\" alt=\"alt\" width=\"50%\"/>\n",
    "\n",
    "\n",
    "\n",
    "### Model Description\n",
    "This notebook demonstrates a PyTorch implementation of the HiFi-GAN model described in the paper: [HiFi-GAN: Generative Adversarial Networks for Efficient and High Fidelity Speech Synthesis](https://arxiv.org/abs/2010.05646).\n",
    "The HiFi-GAN model implements a spectrogram inversion model that allows to synthesize speech waveforms from mel-spectrograms. It follows the generative adversarial network (GAN) paradigm, and is composed of a generator and a discriminator. After training, the generator is used for synthesis, and the discriminator is discarded.\n",
    "\n",
    "Our implementation is based on the one [published by the authors of the paper](https://github.com/jik876/hifi-gan). We modify the original hyperparameters and provide an alternative training recipe, which enables training on larger batches and faster convergence. HiFi-GAN is trained on a publicly available [LJ Speech dataset](https://keithito.com/LJ-Speech-Dataset/). The <a href=\"audio/\">samples</a> demonstrate speech synthesized with our publicly available FastPitch and HiFi-GAN checkpoints.\n",
    "\n",
    "#### Model architecture\n",
    "\n",
    "![HiFiGAN Architecture](https://raw.githubusercontent.com/NVIDIA/DeepLearningExamples/master/PyTorch/SpeechSynthesis/HiFiGAN/img/hifigan_model.png)\n",
    "\n",
    "### Example\n",
    "In the example below:\n",
    "\n",
    "- pretrained FastPitch and HiFiGAN models are loaded from torch.hub\n",
    "- given tensor representation of an input text (\"Say this smoothly to prove you are not a robot.\"), FastPitch generates mel spectrogram \n",
    "- HiFiGAN generates sound given the mel spectrogram\n",
    "- the output sound is saved in an 'audio.wav' file\n",
    "\n",
    "To run the example you need some extra python packages installed. These are needed for preprocessing of text and audio, as well as for display and input/output handling. Finally, for better performance of FastPitch model, we download the CMU pronounciation dictionary."
   ]
  },
  {
   "cell_type": "code",
   "execution_count": null,
   "id": "6788643a",
   "metadata": {},
   "outputs": [],
   "source": [
    "%%bash\n",
    "pip install numpy scipy librosa unidecode inflect librosa matplotlib==3.6.3\n",
    "apt-get update\n",
    "apt-get install -y libsndfile1 wget\n",
    "wget https://raw.githubusercontent.com/NVIDIA/NeMo/263a30be71e859cee330e5925332009da3e5efbc/scripts/tts_dataset_files/heteronyms-052722 -qO heteronyms\n",
    "wget https://raw.githubusercontent.com/NVIDIA/NeMo/263a30be71e859cee330e5925332009da3e5efbc/scripts/tts_dataset_files/cmudict-0.7b_nv22.08 -qO cmudict-0.7b"
   ]
  },
  {
   "cell_type": "code",
   "execution_count": null,
   "id": "ac40f5ff",
   "metadata": {},
   "outputs": [],
   "source": [
    "import torch\n",
    "import matplotlib.pyplot as plt\n",
    "from IPython.display import Audio\n",
    "import warnings\n",
    "warnings.filterwarnings('ignore')\n",
    "\n",
    "device = torch.device(\"cuda\") if torch.cuda.is_available() else torch.device(\"cpu\")\n",
    "print(f'Using {device} for inference')"
   ]
  },
  {
   "cell_type": "markdown",
   "id": "782c0d64",
   "metadata": {},
   "source": [
    "Download and setup FastPitch generator model."
   ]
  },
  {
   "cell_type": "code",
   "execution_count": null,
   "id": "d3f9360a",
   "metadata": {},
   "outputs": [],
   "source": [
    "fastpitch, generator_train_setup = torch.hub.load('NVIDIA/DeepLearningExamples:torchhub', 'nvidia_fastpitch')"
   ]
  },
  {
   "cell_type": "markdown",
   "id": "d3dc5d43",
   "metadata": {},
   "source": [
    "Download and setup vocoder and denoiser models."
   ]
  },
  {
   "cell_type": "code",
   "execution_count": null,
   "id": "d82ba6f9",
   "metadata": {},
   "outputs": [],
   "source": [
    "hifigan, vocoder_train_setup, denoiser = torch.hub.load('NVIDIA/DeepLearningExamples:torchhub', 'nvidia_hifigan')"
   ]
  },
  {
   "cell_type": "markdown",
   "id": "75fe7f75",
   "metadata": {},
   "source": [
    "Verify that generator and vocoder models agree on input parameters."
   ]
  },
  {
   "cell_type": "code",
   "execution_count": null,
   "id": "eb361fc3",
   "metadata": {},
   "outputs": [],
   "source": [
    "CHECKPOINT_SPECIFIC_ARGS = [\n",
    "    'sampling_rate', 'hop_length', 'win_length', 'p_arpabet', 'text_cleaners',\n",
    "    'symbol_set', 'max_wav_value', 'prepend_space_to_text',\n",
    "    'append_space_to_text']\n",
    "\n",
    "for k in CHECKPOINT_SPECIFIC_ARGS:\n",
    "\n",
    "    v1 = generator_train_setup.get(k, None)\n",
    "    v2 = vocoder_train_setup.get(k, None)\n",
    "\n",
    "    assert v1 is None or v2 is None or v1 == v2, \\\n",
    "        f'{k} mismatch in spectrogram generator and vocoder'"
   ]
  },
  {
   "cell_type": "markdown",
   "id": "6a588b28",
   "metadata": {},
   "source": [
    "Put all models on available device."
   ]
  },
  {
   "cell_type": "code",
   "execution_count": null,
   "id": "d8f2208a",
   "metadata": {},
   "outputs": [],
   "source": [
    "fastpitch.to(device)\n",
    "hifigan.to(device)\n",
    "denoiser.to(device)"
   ]
  },
  {
   "cell_type": "markdown",
   "id": "2cd60589",
   "metadata": {},
   "source": [
    "Load text processor."
   ]
  },
  {
   "cell_type": "code",
   "execution_count": null,
   "id": "6ac1672e",
   "metadata": {},
   "outputs": [],
   "source": [
    "tp = torch.hub.load('NVIDIA/DeepLearningExamples:torchhub', 'nvidia_textprocessing_utils', cmudict_path=\"cmudict-0.7b\", heteronyms_path=\"heteronyms\")"
   ]
  },
  {
   "cell_type": "markdown",
   "id": "eff28d38",
   "metadata": {},
   "source": [
    "Set the text to be synthetized, prepare input and set additional generation parameters."
   ]
  },
  {
   "cell_type": "code",
   "execution_count": null,
   "id": "2b8c7b8a",
   "metadata": {},
   "outputs": [],
   "source": [
    "text = \"Say this smoothly, to prove you are not a robot.\""
   ]
  },
  {
   "cell_type": "code",
   "execution_count": null,
   "id": "caa0b62f",
   "metadata": {},
   "outputs": [],
   "source": [
    "batches = tp.prepare_input_sequence([text], batch_size=1)"
   ]
  },
  {
   "cell_type": "code",
   "execution_count": null,
   "id": "a2ce02c0",
   "metadata": {},
   "outputs": [],
   "source": [
    "gen_kw = {'pace': 1.0,\n",
    "          'speaker': 0,\n",
    "          'pitch_tgt': None,\n",
    "          'pitch_transform': None}\n",
    "denoising_strength = 0.005"
   ]
  },
  {
   "cell_type": "code",
   "execution_count": null,
   "id": "87c0b322",
   "metadata": {},
   "outputs": [],
   "source": [
    "for batch in batches:\n",
    "    with torch.no_grad():\n",
    "        mel, mel_lens, *_ = fastpitch(batch['text'].to(device), **gen_kw)\n",
    "        audios = hifigan(mel).float()\n",
    "        audios = denoiser(audios.squeeze(1), denoising_strength)\n",
    "        audios = audios.squeeze(1) * vocoder_train_setup['max_wav_value']\n"
   ]
  },
  {
   "cell_type": "markdown",
   "id": "b22b0062",
   "metadata": {},
   "source": [
    "Plot the intermediate spectorgram."
   ]
  },
  {
   "cell_type": "code",
   "execution_count": null,
   "id": "f93c542b",
   "metadata": {},
   "outputs": [],
   "source": [
    "plt.figure(figsize=(10,12))\n",
    "res_mel = mel[0].detach().cpu().numpy()\n",
    "plt.imshow(res_mel, origin='lower')\n",
    "plt.xlabel('time')\n",
    "plt.ylabel('frequency')\n",
    "_=plt.title('Spectrogram')"
   ]
  },
  {
   "cell_type": "markdown",
   "id": "e8cec214",
   "metadata": {},
   "source": [
    "Syntesize audio."
   ]
  },
  {
   "cell_type": "code",
   "execution_count": null,
   "id": "de55b00b",
   "metadata": {},
   "outputs": [],
   "source": [
    "audio_numpy = audios[0].cpu().numpy()\n",
    "Audio(audio_numpy, rate=22050)"
   ]
  },
  {
   "cell_type": "markdown",
   "id": "7a330f0b",
   "metadata": {},
   "source": [
    "Write audio to wav file."
   ]
  },
  {
   "cell_type": "code",
   "execution_count": null,
   "id": "485fbb1d",
   "metadata": {},
   "outputs": [],
   "source": [
    "from scipy.io.wavfile import write\n",
    "write(\"audio.wav\", vocoder_train_setup['sampling_rate'], audio_numpy)"
   ]
  },
  {
   "cell_type": "markdown",
   "id": "a2b739b8",
   "metadata": {},
   "source": [
    "### Details\n",
    "For detailed information on model input and output, training recipies, inference and performance visit: [github](https://github.com/NVIDIA/DeepLearningExamples/tree/master/PyTorch/SpeechSynthesis/HiFiGAN) and/or [NGC](https://catalog.ngc.nvidia.com/orgs/nvidia/teams/dle/resources/hifigan_pyt)\n",
    "\n",
    "### References\n",
    "\n",
    " - [HiFi-GAN: Generative Adversarial Networks for Efficient and High Fidelity Speech Synthesis](https://arxiv.org/abs/2010.05646)\n",
    " - [Original implementation](https://github.com/jik876/hifi-gan)\n",
    " - [FastPitch on NGC](https://catalog.ngc.nvidia.com/orgs/nvidia/teams/dle/resources/fastpitch_pyt)\n",
    " - [HiFi-GAN on NGC](https://catalog.ngc.nvidia.com/orgs/nvidia/teams/dle/resources/hifigan_pyt)\n",
    " - [FastPitch and HiFi-GAN on github](https://github.com/NVIDIA/DeepLearningExamples/tree/master/PyTorch/SpeechSynthesis/HiFi-GAN)"
   ]
  }
 ],
 "metadata": {},
 "nbformat": 4,
 "nbformat_minor": 5
}
