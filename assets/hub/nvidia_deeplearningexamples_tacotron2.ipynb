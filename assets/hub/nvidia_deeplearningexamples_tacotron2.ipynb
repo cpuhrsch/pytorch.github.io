{
 "cells": [
  {
   "cell_type": "markdown",
   "id": "dcd520d8",
   "metadata": {},
   "source": [
    "### This notebook requires a GPU runtime to run.\n",
    "### Please select the menu option \"Runtime\" -> \"Change runtime type\", select \"Hardware Accelerator\" -> \"GPU\" and click \"SAVE\"\n",
    "\n",
    "----------------------------------------------------------------------\n",
    "\n",
    "# Tacotron 2\n",
    "\n",
    "*Author: NVIDIA*\n",
    "\n",
    "**The Tacotron 2 model for generating mel spectrograms from text**\n",
    "\n",
    "<img src=\"https://pytorch.org/assets/images/tacotron2_diagram.png\" alt=\"alt\" width=\"50%\"/>\n",
    "\n",
    "\n",
    "\n",
    "### Model Description\n",
    "\n",
    "The Tacotron 2 and WaveGlow model form a text-to-speech system that enables user to synthesise a natural sounding speech from raw transcripts without any additional prosody information. The Tacotron 2 model produces mel spectrograms from input text using encoder-decoder architecture. WaveGlow (also available via torch.hub) is a flow-based model that consumes the mel spectrograms to generate speech.\n",
    "\n",
    "This implementation of Tacotron 2 model differs from the model described in the paper. Our implementation uses Dropout instead of Zoneout to regularize the LSTM layers.\n",
    "\n",
    "### Example\n",
    "\n",
    "In the example below:\n",
    "- pretrained Tacotron2 and Waveglow models are loaded from torch.hub\n",
    "- Given a tensor representation of the input text (\"Hello world, I missed you so much\"), Tacotron2 generates a Mel spectrogram as shown on the illustration\n",
    "- Waveglow generates sound given the mel spectrogram\n",
    "- the output sound is saved in an 'audio.wav' file\n",
    "\n",
    "To run the example you need some extra python packages installed.\n",
    "These are needed for preprocessing the text and audio, as well as for display and input / output."
   ]
  },
  {
   "cell_type": "code",
   "execution_count": null,
   "id": "568c31ca",
   "metadata": {},
   "outputs": [],
   "source": [
    "%%bash\n",
    "pip install numpy scipy librosa unidecode inflect librosa\n",
    "apt-get update\n",
    "apt-get install -y libsndfile1"
   ]
  },
  {
   "cell_type": "markdown",
   "id": "4671191a",
   "metadata": {},
   "source": [
    "Load the Tacotron2 model pre-trained on [LJ Speech dataset](https://keithito.com/LJ-Speech-Dataset/) and prepare it for inference:"
   ]
  },
  {
   "cell_type": "code",
   "execution_count": null,
   "id": "6b360816",
   "metadata": {},
   "outputs": [],
   "source": [
    "import torch\n",
    "tacotron2 = torch.hub.load('NVIDIA/DeepLearningExamples:torchhub', 'nvidia_tacotron2', model_math='fp16')\n",
    "tacotron2 = tacotron2.to('cuda')\n",
    "tacotron2.eval()"
   ]
  },
  {
   "cell_type": "markdown",
   "id": "8df31744",
   "metadata": {},
   "source": [
    "Load pretrained WaveGlow model"
   ]
  },
  {
   "cell_type": "code",
   "execution_count": null,
   "id": "67d44b8c",
   "metadata": {},
   "outputs": [],
   "source": [
    "waveglow = torch.hub.load('NVIDIA/DeepLearningExamples:torchhub', 'nvidia_waveglow', model_math='fp16')\n",
    "waveglow = waveglow.remove_weightnorm(waveglow)\n",
    "waveglow = waveglow.to('cuda')\n",
    "waveglow.eval()"
   ]
  },
  {
   "cell_type": "markdown",
   "id": "a3fd1ba8",
   "metadata": {},
   "source": [
    "Now, let's make the model say:"
   ]
  },
  {
   "cell_type": "code",
   "execution_count": null,
   "id": "1fa3502d",
   "metadata": {},
   "outputs": [],
   "source": [
    "text = \"Hello world, I missed you so much.\""
   ]
  },
  {
   "cell_type": "markdown",
   "id": "32c19b09",
   "metadata": {},
   "source": [
    "Format the input using utility methods"
   ]
  },
  {
   "cell_type": "code",
   "execution_count": null,
   "id": "bebac7d9",
   "metadata": {},
   "outputs": [],
   "source": [
    "utils = torch.hub.load('NVIDIA/DeepLearningExamples:torchhub', 'nvidia_tts_utils')\n",
    "sequences, lengths = utils.prepare_input_sequence([text])"
   ]
  },
  {
   "cell_type": "markdown",
   "id": "23c9e8d5",
   "metadata": {},
   "source": [
    "Run the chained models:"
   ]
  },
  {
   "cell_type": "code",
   "execution_count": null,
   "id": "2f4c0a57",
   "metadata": {},
   "outputs": [],
   "source": [
    "with torch.no_grad():\n",
    "    mel, _, _ = tacotron2.infer(sequences, lengths)\n",
    "    audio = waveglow.infer(mel)\n",
    "audio_numpy = audio[0].data.cpu().numpy()\n",
    "rate = 22050"
   ]
  },
  {
   "cell_type": "markdown",
   "id": "2b310526",
   "metadata": {},
   "source": [
    "You can write it to a file and listen to it"
   ]
  },
  {
   "cell_type": "code",
   "execution_count": null,
   "id": "c443d89a",
   "metadata": {},
   "outputs": [],
   "source": [
    "from scipy.io.wavfile import write\n",
    "write(\"audio.wav\", rate, audio_numpy)"
   ]
  },
  {
   "cell_type": "markdown",
   "id": "190ee7df",
   "metadata": {},
   "source": [
    "Alternatively, play it right away in a notebook with IPython widgets"
   ]
  },
  {
   "cell_type": "code",
   "execution_count": null,
   "id": "7aa033fb",
   "metadata": {},
   "outputs": [],
   "source": [
    "from IPython.display import Audio\n",
    "Audio(audio_numpy, rate=rate)"
   ]
  },
  {
   "cell_type": "markdown",
   "id": "9148ca5c",
   "metadata": {},
   "source": [
    "### Details\n",
    "For detailed information on model input and output, training recipies, inference and performance visit: [github](https://github.com/NVIDIA/DeepLearningExamples/tree/master/PyTorch/SpeechSynthesis/Tacotron2) and/or [NGC](https://ngc.nvidia.com/catalog/resources/nvidia:tacotron_2_and_waveglow_for_pytorch)\n",
    "\n",
    "### References\n",
    "\n",
    " - [Natural TTS Synthesis by Conditioning WaveNet on Mel Spectrogram Predictions](https://arxiv.org/abs/1712.05884)\n",
    " - [WaveGlow: A Flow-based Generative Network for Speech Synthesis](https://arxiv.org/abs/1811.00002)\n",
    " - [Tacotron2 and WaveGlow on NGC](https://ngc.nvidia.com/catalog/resources/nvidia:tacotron_2_and_waveglow_for_pytorch)\n",
    " - [Tacotron2 and Waveglow on github](https://github.com/NVIDIA/DeepLearningExamples/tree/master/PyTorch/SpeechSynthesis/Tacotron2)"
   ]
  }
 ],
 "metadata": {},
 "nbformat": 4,
 "nbformat_minor": 5
}
